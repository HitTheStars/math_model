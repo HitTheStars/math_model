{
 "cells": [
  {
   "cell_type": "markdown",
   "metadata": {
    "id": "4KvJyJ9pgMUh"
   },
   "source": [
    "# **Numpy**\n",
    "Numpy is a general-purpose array-processing package. It provides a high-performance multidimensional array object and tools for working with these arrays.\n",
    ">**NumPy is short for \"Numerical Python\".**\n",
    "\n",
    ">**It also has functions for working in domain of:**\n",
    "\n",
    "\n",
    ">>  1.   linear algebra\n",
    ">\n",
    ">>  2.   fourier transform\n",
    ">\n",
    ">>  3.   matrices\n",
    "\n"
   ]
  },
  {
   "cell_type": "markdown",
   "metadata": {
    "id": "JADp7eUWjQjA"
   },
   "source": [
    "#### The **array object** in NumPy is called **ndarray**, it provides a lot of supporting functions that make working with ndarray very easy."
   ]
  },
  {
   "cell_type": "markdown",
   "metadata": {
    "id": "HkvU-LozjrC_"
   },
   "source": [
    "# **Why is NumPy Faster Than Lists?**\n",
    ">**NumPy arrays** are **stored** at **one** continuous **place** in **memory** unlike **lists**, so processes can access and manipulate them very efficiently.\n",
    "\n",
    ">This **behavior** is called **locality** of **reference** in **computer science**.\n",
    "\n",
    ">Also **optimized** to **work** with **latest CPU architectures**."
   ]
  },
  {
   "cell_type": "markdown",
   "metadata": {
    "id": "0FTY0U36kP-C"
   },
   "source": [
    "### **Install Numpy**"
   ]
  },
  {
   "cell_type": "code",
   "execution_count": 1,
   "metadata": {
    "id": "jtM6E1p4st_q",
    "outputId": "e9095c5b-6da0-447a-c846-6f8790a5a6e8"
   },
   "outputs": [
    {
     "name": "stdout",
     "output_type": "stream",
     "text": [
      "Defaulting to user installation because normal site-packages is not writeable\n",
      "Looking in indexes: https://mirrors.aliyun.com/pypi/simple/\n",
      "Requirement already satisfied: numpy in g:\\anaconda3\\envs\\pytorch\\lib\\site-packages (1.26.4)\n"
     ]
    }
   ],
   "source": [
    "!pip install numpy"
   ]
  },
  {
   "cell_type": "code",
   "execution_count": null,
   "metadata": {
    "id": "Vs0zTC4rkXeG"
   },
   "outputs": [],
   "source": [
    "import numpy"
   ]
  },
  {
   "cell_type": "markdown",
   "metadata": {
    "id": "ut9UxHCzkjlz"
   },
   "source": [
    ">NumPy is **usually imported** under the **np alias**.\n",
    "\n",
    "**alias:** In Python **alias** are an **alternate name** for **referring to the same thing**."
   ]
  },
  {
   "cell_type": "code",
   "execution_count": null,
   "metadata": {
    "id": "SEniHMnElwjz"
   },
   "outputs": [],
   "source": [
    "import numpy as np"
   ]
  },
  {
   "cell_type": "markdown",
   "metadata": {
    "id": "FSdvWZgplCk2"
   },
   "source": [
    "# **Checking NumPy Version**\n",
    "The **version string** is stored under **__version__ attribute**."
   ]
  },
  {
   "cell_type": "code",
   "execution_count": null,
   "metadata": {
    "id": "Bft3KLwqk-qA",
    "outputId": "d00387c4-f6ac-4dcc-de9a-ade61e016b99"
   },
   "outputs": [],
   "source": [
    "print(np.__version__)"
   ]
  },
  {
   "cell_type": "markdown",
   "metadata": {
    "id": "seRqr5rrldyK"
   },
   "source": [
    "# **NumPy Creating Arrays**\n",
    ">NumPy is used to work with arrays.\n",
    ">> The **array object** in NumPy is called **ndarray**.\n",
    "\n",
    ">We can create a **NumPy ndarray** object by using the **array() function**."
   ]
  },
  {
   "cell_type": "code",
   "execution_count": null,
   "metadata": {
    "id": "N9dlJrRDlQrq",
    "outputId": "e7c02c91-a091-4dff-effa-f21fe3b8e1d9"
   },
   "outputs": [],
   "source": [
    "arr = np.array([12,20,30,40,50,60])\n",
    "\n",
    "print(arr)\n",
    "\n",
    "print(type(arr))"
   ]
  },
  {
   "cell_type": "markdown",
   "metadata": {
    "id": "gAsS7aSBmNxL"
   },
   "source": [
    ">**type():** This **built-in Python function** tells us the type of the object passed to it.\n",
    "\n",
    "> Like in above code it shows that **arr** is **numpy.ndarray** type"
   ]
  },
  {
   "cell_type": "markdown",
   "metadata": {
    "id": "uDMmsC-7mhmu"
   },
   "source": [
    "# **To create an ndarray**\n",
    ">We can **pass** a **list**, **tuple** or any **array-like object** into the ```array()``` method, and it will be **converted into an ndarray**"
   ]
  },
  {
   "cell_type": "code",
   "execution_count": null,
   "metadata": {
    "id": "osqEyNx2mKDD",
    "outputId": "7c130b21-ee76-468d-fba6-ee7e897096ac"
   },
   "outputs": [],
   "source": [
    "arr =np.array((10,20,30,40,50,60))\n",
    "print(arr)"
   ]
  },
  {
   "cell_type": "markdown",
   "metadata": {
    "id": "sQRWp1BjegCJ"
   },
   "source": [
    "## **Create an aray within specified range**\n",
    "```np.arange()``` method can be used to replace ```np.array(range())``` method"
   ]
  },
  {
   "cell_type": "code",
   "execution_count": null,
   "metadata": {
    "id": "bANlY6aWekAg",
    "outputId": "c672a3ce-f1fb-4c79-92ae-4e0b8416d1f9"
   },
   "outputs": [],
   "source": [
    "# np.arange(start, stop, step)\n",
    "arr = np.arange(0, 21, 3)\n",
    "print(arr)\n",
    "print(type(arr))"
   ]
  },
  {
   "cell_type": "markdown",
   "metadata": {
    "id": "2pWHP3wyep2h"
   },
   "source": [
    "## **Create an array of evenly spaced numbers within specified range**\n",
    "```np.linspace(start, stop, num_of_elements, endpoint=True, retstep=False)``` has 5 parameters:\n",
    "- ```start```: start number (inclusive)\n",
    "- ```stop```: end number (inclusive unless ```endpoint``` set to ```False```)\n",
    "- ```num_of_elements```: number of elements contained in the array\n",
    "- ```endpoint```: boolean value representing whether the ```stop``` number is inclusive or not\n",
    "- ```retstep```: boolean value representing whether to return the step size"
   ]
  },
  {
   "cell_type": "code",
   "execution_count": null,
   "metadata": {
    "id": "AAPCLkC6ezFf",
    "outputId": "515d3138-15c9-40f2-a58f-6bfb5bbb650a"
   },
   "outputs": [],
   "source": [
    "arr, step_size = np.linspace(0, 10, 10, endpoint=False, retstep=True)\n",
    "print(arr)\n",
    "print(arr.size)\n",
    "print('The step size is ' + str(step_size))"
   ]
  },
  {
   "cell_type": "markdown",
   "metadata": {
    "id": "Mx-9TGmgfK46"
   },
   "source": [
    "## **Create an array of random values of given shape**\n",
    "```np.random.rand()``` method returns values in the range [0,1)"
   ]
  },
  {
   "cell_type": "code",
   "execution_count": null,
   "metadata": {
    "id": "cn4EMlU2fPS6",
    "outputId": "90a20a98-412c-4efb-ab4b-700fa46a1163"
   },
   "outputs": [],
   "source": [
    "arr = np.random.rand(3,4)\n",
    "print(arr)"
   ]
  },
  {
   "cell_type": "markdown",
   "metadata": {
    "id": "0J8GPnMLfSG3"
   },
   "source": [
    "## **Create an array of zeros of given shape**\n",
    "- ```np.zeros()```: create array of all zeros in given shape\n",
    "- ```np.zeros_like()```: create array of all zeros with the same shape and data type as the given input array"
   ]
  },
  {
   "cell_type": "code",
   "execution_count": null,
   "metadata": {
    "id": "120-y0-ofXev",
    "outputId": "52481431-610a-4ed6-c054-7ed78b306868"
   },
   "outputs": [],
   "source": [
    "zeros = np.zeros((2,3))\n",
    "print(zeros)"
   ]
  },
  {
   "cell_type": "markdown",
   "metadata": {
    "id": "jzzMBgpIjJeq"
   },
   "source": [
    "## **Create an array of ones of given shape**\n",
    "- ```np.ones()```: create array of all ones in given shape\n",
    "- ```np.ones_like()```: create array of all ones with the same shape and data type as the given input array"
   ]
  },
  {
   "cell_type": "code",
   "execution_count": null,
   "metadata": {
    "id": "m5wJGFZbjLeQ",
    "outputId": "29287f07-4a1a-4aa0-a7a6-7fd2f920e3cb"
   },
   "outputs": [],
   "source": [
    "ones = np.ones((3,2))\n",
    "print(ones)"
   ]
  },
  {
   "cell_type": "code",
   "execution_count": null,
   "metadata": {
    "id": "0AAoC55ijSYD",
    "outputId": "2e058c0e-2ce4-4113-ad8c-c2c26272674e"
   },
   "outputs": [],
   "source": [
    "arr = [[1,2,3], [4,5,6]]\n",
    "ones = np.ones_like(arr)\n",
    "print(ones)\n",
    "print('Data Type: ' + str(ones.dtype))"
   ]
  },
  {
   "cell_type": "markdown",
   "metadata": {
    "id": "VFqviWkVjaVF"
   },
   "source": [
    "## **Create an empty array of given shape**\n",
    "- ```np.empty()```: create array of empty values in given shape\n",
    "- ```np.empty_like()```: create array of empty values with the same shape and data type as the given input array\n",
    "\n",
    "Notice that the initial values are not necessarily set to zeroes.\n",
    "\n",
    "They are just some garbage values in random memory addresses."
   ]
  },
  {
   "cell_type": "code",
   "execution_count": null,
   "metadata": {
    "id": "WEwT03LPjgIK",
    "outputId": "3cf84dae-057b-41cd-904a-8d33a90a3415"
   },
   "outputs": [],
   "source": [
    "empty = np.empty((2,2))\n",
    "print(empty)\n",
    "print(empty.dtype)"
   ]
  },
  {
   "cell_type": "code",
   "execution_count": null,
   "metadata": {
    "id": "7baNixS5jolI",
    "outputId": "f03e389a-81e3-4529-f8ed-a99d414407fd"
   },
   "outputs": [],
   "source": [
    "newarr = np.array([[10,20,30], [40,50,60]], dtype=np.int64)\n",
    "empty = np.empty_like(newarr)\n",
    "print(empty)\n",
    "print('Data Type: ' + str(empty.dtype))"
   ]
  },
  {
   "cell_type": "markdown",
   "metadata": {
    "id": "8EOIIdYAjy8t"
   },
   "source": [
    "## **Create an array of constant values of given shape**  \n",
    "- ```np.full()```: create array of constant values in given shape\n",
    "- ```np.full_like()```: create array of constant values with the same shape and data type as the given input array"
   ]
  },
  {
   "cell_type": "code",
   "execution_count": null,
   "metadata": {
    "id": "6SU_boPzkBkB",
    "outputId": "a601928e-a723-4099-f340-a7f2fca45c06"
   },
   "outputs": [],
   "source": [
    "full = np.full((4,4), 4)\n",
    "print(full)"
   ]
  },
  {
   "cell_type": "code",
   "execution_count": null,
   "metadata": {
    "id": "GivlhatSkG19",
    "outputId": "cbe37eb0-4284-42c9-bbb0-a4eef90b6f43"
   },
   "outputs": [],
   "source": [
    "arr = np.array([[1,2], [3,4]], dtype=np.float64)\n",
    "full = np.full_like(arr, 5)\n",
    "print(full)\n",
    "print('Data Type: ' + str(full.dtype))"
   ]
  },
  {
   "cell_type": "markdown",
   "metadata": {
    "id": "tr46BoKEkN6l"
   },
   "source": [
    "## **Create an array in a repetitive manner**\n",
    "- ```np.repeat(iterable, reps, axis=None)```: repeat each element by n times\n",
    "    - ```iterable```: input array\n",
    "    - ```reps```: number of repetitions\n",
    "    - ```axis```: which axis to repeat along, default is ```None``` which will flatten the input array and then repeat\n",
    "- ```np.tile(iterable ,reps)```: repeat the whole array by n times\n",
    "    - ```iterable```: input array\n",
    "    - ```reps```: number of repetitions, it can be a tuple to represent repetitions along x-axis and y-axis"
   ]
  },
  {
   "cell_type": "code",
   "execution_count": null,
   "metadata": {
    "id": "PicrpgMLkYk_",
    "outputId": "e29d0e5d-6fb5-40bf-f763-9041480ff294"
   },
   "outputs": [],
   "source": [
    "# No axis specified, then flatten the input array first and repeat\n",
    "# Data Augemnation\n",
    "\n",
    "arr = [[0, 1, 2], [3, 4, 5]]\n",
    "\n",
    "print(np.repeat(arr, 4))"
   ]
  },
  {
   "cell_type": "code",
   "execution_count": null,
   "metadata": {
    "id": "stQJGzHHkiOx",
    "outputId": "6b22a15f-40ea-40ef-8e2d-0a4ebf799edf"
   },
   "outputs": [],
   "source": [
    "# An example of repeating along x-axis\n",
    "arr = [[0, 1, 2], [3, 4, 5]]\n",
    "print(np.repeat(arr, 3, axis=0)) # row"
   ]
  },
  {
   "cell_type": "code",
   "execution_count": null,
   "metadata": {
    "id": "hS5hRBpkkk1x",
    "outputId": "7f333a02-eede-4d02-ac99-04d8fbb28d6e"
   },
   "outputs": [],
   "source": [
    "# An example of repeating along y-axis\n",
    "arr = [[0, 1, 2], [3, 4, 5]]\n",
    "print(np.repeat(arr, 3, axis=1))"
   ]
  },
  {
   "cell_type": "code",
   "execution_count": null,
   "metadata": {
    "id": "j-y9dX_dk0gz",
    "outputId": "2ced67af-e7d3-462a-9457-c6dc159b0321"
   },
   "outputs": [],
   "source": [
    "# Repeat along specified axes\n",
    "print(np.tile(arr, (2,2)))"
   ]
  },
  {
   "cell_type": "markdown",
   "metadata": {
    "id": "-K7TxYfRlHpU"
   },
   "source": [
    "## **Create an identity matrix of given size**\n",
    "- ```np.eye(size, k=0)```: create an identity matrix of given size\n",
    "    - ```size```: the size of the identity matrix\n",
    "    - ```k```: the diagonal offset\n",
    "- ```np.identity()```: same as ```np.eye()``` but does not carry parameters"
   ]
  },
  {
   "cell_type": "code",
   "execution_count": null,
   "metadata": {
    "id": "Mc93q__tlN5_",
    "outputId": "82e00114-25e6-4a16-babc-7d57681b126e"
   },
   "outputs": [],
   "source": [
    "identity_matrix = np.eye(4)\n",
    "print(identity_matrix)\n",
    "print(type(identity_matrix))"
   ]
  },
  {
   "cell_type": "code",
   "execution_count": null,
   "metadata": {
    "id": "NC24vSGElTQu",
    "outputId": "3d41957b-b78e-45e8-f314-7b461ccd80d1"
   },
   "outputs": [],
   "source": [
    "# An example of diagonal offset\n",
    "identity_matrix = np.eye(5, k=1) # default k = 0\n",
    "print(identity_matrix)"
   ]
  },
  {
   "cell_type": "code",
   "execution_count": null,
   "metadata": {
    "id": "wYOO5Kq5lVWY",
    "outputId": "1cdb1cfc-b28d-4a33-bc52-7819f4898908"
   },
   "outputs": [],
   "source": [
    "identity_matrix = np.identity(5)\n",
    "print(identity_matrix)\n",
    "print(type(identity_matrix))"
   ]
  },
  {
   "cell_type": "markdown",
   "metadata": {
    "id": "2zzjT9srmZM5"
   },
   "source": [
    "## **Create an array with given values on the diagonal**"
   ]
  },
  {
   "cell_type": "code",
   "execution_count": null,
   "metadata": {
    "id": "EUMj1eXvmc0p",
    "outputId": "c570f447-ba04-4f37-c7a3-7acfce335d2f"
   },
   "outputs": [],
   "source": [
    "arr = np.random.rand(5,5)\n",
    "print(arr)"
   ]
  },
  {
   "cell_type": "markdown",
   "metadata": {
    "id": "H6WiqF3lm_g1"
   },
   "source": [
    "### **Extract values on the diagonal**\n"
   ]
  },
  {
   "cell_type": "code",
   "execution_count": null,
   "metadata": {
    "id": "sPWzJyh0nCph",
    "outputId": "63c68062-6484-4a5b-f360-3b7e0f9b7111"
   },
   "outputs": [],
   "source": [
    "print('Values on the diagonal: ' + str(np.diag(arr)))"
   ]
  },
  {
   "cell_type": "markdown",
   "metadata": {
    "id": "mHAoUjm1m3yQ"
   },
   "source": [
    "### **Not necessarily to be a square matrix**"
   ]
  },
  {
   "cell_type": "code",
   "execution_count": null,
   "metadata": {
    "id": "fbHlmSrtmnBu",
    "outputId": "1de68efa-481b-46fd-da46-b3c3fdcad850"
   },
   "outputs": [],
   "source": [
    "arr = np.random.rand(5,3)\n",
    "print(arr)\n",
    "# Extract values on the diagonal\n",
    "print('Values on the diagonal: ' + str(np.diag(arr)))"
   ]
  },
  {
   "cell_type": "markdown",
   "metadata": {
    "id": "iPG4Sx7pmv5J"
   },
   "source": [
    "### **Create a matrix given values on the diagonal**\n",
    "> All non-diagonal values set to zeros"
   ]
  },
  {
   "cell_type": "code",
   "execution_count": null,
   "metadata": {
    "id": "rw-w_odkmuZ9"
   },
   "outputs": [],
   "source": [
    "\n",
    "arr = np.diag([1,2,3,4,5,6])\n",
    "print(arr)"
   ]
  },
  {
   "cell_type": "markdown",
   "metadata": {
    "id": "kmKF58Y8m6UV"
   },
   "source": [
    "# **Dimensions in Arrays**\n",
    "A **dimension** in arrays is **one level** of **array depth** (nested arrays).\n",
    "\n",
    "**Nested array:** are arrays that **have arrays as their elements.**"
   ]
  },
  {
   "cell_type": "markdown",
   "metadata": {
    "id": "P7TKyt-knJLt"
   },
   "source": [
    "# **0-D Arrays**\n",
    ">**0-D arrays**, **,or Scalars**: are the **elements** in an array.\n",
    ">>**Each value in an array is a 0-D array.**"
   ]
  },
  {
   "cell_type": "code",
   "execution_count": null,
   "metadata": {
    "id": "L5FOCJSvm3tc",
    "outputId": "ba44c495-552b-4284-cf7d-1267b7a6c1e0"
   },
   "outputs": [],
   "source": [
    "#create 0-D array with value '10'\n",
    "\n",
    "arr=np.array('10')\n",
    "print(arr)"
   ]
  },
  {
   "cell_type": "markdown",
   "metadata": {
    "id": "WR8nYGwmnulk"
   },
   "source": [
    "# **1-D Arrays**\n",
    ">An **array** that has **0-D arrays** as its **elements** is called **uni-dimensional** or **1-D array**.\n",
    "\n",
    ">>These are the **most common** and **basic** arrays."
   ]
  },
  {
   "cell_type": "code",
   "execution_count": null,
   "metadata": {
    "id": "Yompr9xUnmsX",
    "outputId": "13d34b98-1132-449b-bc08-0e945f26644f"
   },
   "outputs": [],
   "source": [
    "arr = np.array([1, 2, 3, 4, 5])\n",
    "\n",
    "print(arr)"
   ]
  },
  {
   "cell_type": "markdown",
   "metadata": {
    "id": "DUwZ7zXPoD5a"
   },
   "source": [
    "# **2-D Arrays**\n",
    ">An **array** that has **1-D arrays** as its **elements** is called a **2-D array**.\n",
    "\n",
    ">>These are often **used** to **represent matrix** or **2nd order tensors**.\n",
    "\n",
    "## **NumPy** has a whole **sub module** dedicated towards **matrix operations** called numpy.mat"
   ]
  },
  {
   "cell_type": "code",
   "execution_count": null,
   "metadata": {
    "id": "AZFnswKPn__R",
    "outputId": "cce7c504-df26-49db-b630-426b471e5f9c"
   },
   "outputs": [],
   "source": [
    "arr= np.array([[10,20,30],[40,50,60]])\n",
    "print(arr)"
   ]
  },
  {
   "cell_type": "markdown",
   "metadata": {
    "id": "OOtM_MWloxqW"
   },
   "source": [
    "# **3-D arrays**\n",
    ">An **array** that has **2-D arrays** (**matrices**) as its **elements** is called **3-D array.**\n",
    "\n",
    ">>These are often used to **represent** a **3rd order tensor.**"
   ]
  },
  {
   "cell_type": "code",
   "execution_count": null,
   "metadata": {
    "id": "wYEDkWZKoqtg",
    "outputId": "543c856b-4f88-4153-d6ab-27bd95efe071"
   },
   "outputs": [],
   "source": [
    "arr =np.array([[[10,20,30],[40,50,60]],[[10,20,30],[40,50,60]]])\n",
    "print(arr)"
   ]
  },
  {
   "cell_type": "markdown",
   "metadata": {
    "id": "gR0j-RXcpf8k"
   },
   "source": [
    "# **Check Number of Dimensions?**\n",
    "NumPy Arrays provides the **ndim** **attribute** that **returns** an **integer** that tells us how many **dimensions** the array have."
   ]
  },
  {
   "cell_type": "code",
   "execution_count": null,
   "metadata": {
    "id": "jgYFZoIepUGp",
    "outputId": "a91bcb21-9f3f-4b15-9874-09bc5b575a91"
   },
   "outputs": [],
   "source": [
    "a = np.array(42)\n",
    "b = np.array([1, 2, 3, 4, 5])\n",
    "c = np.array([[1, 2, 3], [4, 5, 6]])\n",
    "d = np.array([[[1, 2, 3], [4, 5, 6]], [[1, 2, 3], [4, 5, 6]]])\n",
    "\n",
    "print(f\"Number of dimensions in Array is :\" ,a.ndim)\n",
    "print(f\"Number of dimensions in Array is :\" ,b.ndim)\n",
    "print(f\"Number of dimensions in Array is :\" ,c.ndim)\n",
    "print(f\"Number of dimensions in Array is :\" ,d.ndim)"
   ]
  },
  {
   "cell_type": "markdown",
   "metadata": {
    "id": "HryoElZ-qCAW"
   },
   "source": [
    "# **Higher Dimensional Arrays**\n",
    "An **array** can have **any number of dimensions**.\n",
    "\n",
    ">When the array is created, **you can define** the **number** of **dimensions** by using the **ndmin** argument."
   ]
  },
  {
   "cell_type": "code",
   "execution_count": null,
   "metadata": {
    "id": "NQbKMCZgpqny",
    "outputId": "e28204c5-b645-426f-b055-7714082e5215"
   },
   "outputs": [],
   "source": [
    "arr = np.array([10,20,30,40,50], ndmin=5)\n",
    "\n",
    "print(arr)\n",
    "\n",
    "print(f\"Number of dimensions in Array is :\", arr.ndim)"
   ]
  },
  {
   "cell_type": "markdown",
   "metadata": {
    "id": "vNZ3hn4knx_c"
   },
   "source": [
    "# **Inspect general information of an array**"
   ]
  },
  {
   "cell_type": "code",
   "execution_count": null,
   "metadata": {
    "id": "DDlBvYY6n2sX",
    "outputId": "f77f08dd-492f-449d-cd80-15ac2bd52867"
   },
   "outputs": [],
   "source": [
    "print(np.info(arr))"
   ]
  },
  {
   "cell_type": "markdown",
   "metadata": {
    "id": "9bDPc-hCrPQD"
   },
   "source": [
    "# **Data Types in NumPy**\n",
    "**NumPy** has some **extra data types**, and **refer** to **data types** with **one** **character**, like **i** for **integers**, **u** for **unsigned integers** etc.\n",
    "\n",
    "\n",
    "\n",
    "*   **i** - integer\n",
    "*   **b** - boolean\n",
    "\n",
    "*   **u** - unsigned integer\n",
    "*   **f** - float\n",
    "\n",
    "*   **c** - complex float\n",
    "*   **m** - timedelta\n",
    "\n",
    "*   **M** - datetime\n",
    "*   **O** - object\n",
    "\n",
    "*   **S** - string\n",
    "*   **U** - unicode string\n",
    "*   **V** - fixed chunk of memory for other type ( void )\n",
    "\n",
    "\n"
   ]
  },
  {
   "cell_type": "markdown",
   "metadata": {
    "id": "sbVu84F3sLN9"
   },
   "source": [
    "# **Checking the Data Type of an Array**\n",
    "\n",
    "The **NumPy array object** has a property called **dtype** that **returns** the **data** **type** of the array"
   ]
  },
  {
   "cell_type": "code",
   "execution_count": null,
   "metadata": {
    "id": "FSE10QBFqXiw",
    "outputId": "56366d6f-96a9-4249-8ad4-fdb0a191869b"
   },
   "outputs": [],
   "source": [
    "arr = np.array([1, 2, 3, 4])\n",
    "\n",
    "print(arr.dtype)"
   ]
  },
  {
   "cell_type": "code",
   "execution_count": null,
   "metadata": {
    "id": "PuFW3tzzsO3s",
    "outputId": "56f729c0-b169-4589-add9-8684697f133a"
   },
   "outputs": [],
   "source": [
    "arr = np.array(['apple', 'banana', 'cherry'])\n",
    "\n",
    "print(arr.dtype)"
   ]
  },
  {
   "cell_type": "markdown",
   "metadata": {
    "id": "Dr_CCFi-sjWy"
   },
   "source": [
    "# **Creating Arrays With a Defined Data Type**\n",
    "**array()** function **can** **take** an **optional argument** ,**(dtype)** that allows us to **define** the **expected** **data type** of the array **elements**"
   ]
  },
  {
   "cell_type": "code",
   "execution_count": null,
   "metadata": {
    "id": "SAx08gwvsWSx",
    "outputId": "99592d22-bdde-4c7a-c0aa-f74a334123c9"
   },
   "outputs": [],
   "source": [
    "arr = np.array([1, 2, 3, 4], dtype='S')\n",
    "\n",
    "print(arr)\n",
    "print(arr.dtype)  #the data will be converted to string"
   ]
  },
  {
   "cell_type": "markdown",
   "metadata": {
    "id": "IY7yFnZ1tVZO"
   },
   "source": [
    "For **i** , **u** , **f**, **S** and **U** we can **define** **size** as well.\n",
    "\n",
    ">>Create an array with data type **4 bytes integer**"
   ]
  },
  {
   "cell_type": "code",
   "execution_count": null,
   "metadata": {
    "id": "oCArKHuks6fo",
    "outputId": "6ae20ef0-f96f-4ba4-f58b-e63601d530f7"
   },
   "outputs": [],
   "source": [
    "arr = np.array([1, 2, 3, 4], dtype='i4')\n",
    "\n",
    "print(arr)\n",
    "print(arr.dtype)"
   ]
  },
  {
   "cell_type": "markdown",
   "metadata": {
    "id": "oLm--4Difoy7"
   },
   "source": [
    ">>Create an array with data type **complex64**\n"
   ]
  },
  {
   "cell_type": "code",
   "execution_count": null,
   "metadata": {
    "id": "OOLBOrvhfpCz",
    "outputId": "83e49af7-7aa7-477e-8dae-5eab87055187"
   },
   "outputs": [],
   "source": [
    "arr = np.array([[1,2], [3,4],[5,6]], dtype=np.complex64)\n",
    "print(arr)\n",
    "print()"
   ]
  },
  {
   "cell_type": "markdown",
   "metadata": {
    "id": "JPiA_TxwtybT"
   },
   "source": [
    "# **What if a Value Can Not Be Converted?**\n",
    "If a type is given in which **elements** **can't be casted** then NumPy **will raise a ValueError.**\n",
    "\n",
    "## **ValueError**: In Python ValueError is raised when the **type of passed argument** to a **function** is **unexpected/incorrect.**"
   ]
  },
  {
   "cell_type": "code",
   "execution_count": null,
   "metadata": {
    "id": "ywxlNjzxti9q"
   },
   "outputs": [],
   "source": [
    "#arr = np.array(['a', '2', '3'], dtype='i') #we have a string so we sill get error"
   ]
  },
  {
   "cell_type": "markdown",
   "metadata": {
    "id": "6MHoh8dfuXEZ"
   },
   "source": [
    "# **Converting Data Type on Existing Arrays**\n",
    "\n",
    "### The best way to **change the data type** of an **existing array**, is to make a **copy of the array** with the **astype()** method.\n",
    "\n",
    "The **astype()** function **creates a copy of the array** and allows you to **specify** the **data type** as a **parameter**.\n",
    "\n",
    ">The **data type** can be **specified using** a **string**, like **'f' for float**, **'i' for integer** etc.\n",
    ">> Or you can **use** the **data type** **directly** like **float** for **float** and **int** for **integer**."
   ]
  },
  {
   "cell_type": "code",
   "execution_count": null,
   "metadata": {
    "id": "TgM65qL1uNFf",
    "outputId": "36d76381-e799-4044-b713-0bb7cae056ee"
   },
   "outputs": [],
   "source": [
    "arr=np.array((1.2,20.2 ,30.3))\n",
    "print(arr)\n",
    "print(arr.dtype)\n",
    "\n",
    "\n",
    "\n",
    "arr2=arr.astype(\"i\")\n",
    "print(arr2)\n",
    "print(arr2.dtype)"
   ]
  },
  {
   "cell_type": "code",
   "execution_count": null,
   "metadata": {
    "id": "uJdQ_OVqvSeS",
    "outputId": "911cfcc6-6608-4495-af4c-113ac5d7c66c"
   },
   "outputs": [],
   "source": [
    "arr=np.array((1.2,20.2 ,30.3))\n",
    "print(arr)\n",
    "print(arr.dtype)\n",
    "\n",
    "\n",
    "\n",
    "arr2=arr.astype(int)\n",
    "print(arr2)\n",
    "print(arr2.dtype)"
   ]
  },
  {
   "cell_type": "code",
   "execution_count": null,
   "metadata": {
    "id": "_cUxgwuCvaB9",
    "outputId": "6d55a4f4-ada2-4cd6-ce95-88eace79ae15"
   },
   "outputs": [],
   "source": [
    "arr=np.array((1.2,20.2 ,0.0))\n",
    "print(arr)\n",
    "print(arr.dtype)\n",
    "\n",
    "\n",
    "\n",
    "arr2=arr.astype(\"bool\")\n",
    "print(arr2)\n",
    "print(arr2.dtype)"
   ]
  },
  {
   "cell_type": "markdown",
   "metadata": {
    "id": "pdmg085NUFrK"
   },
   "source": [
    "#  **NumPy Array Indexing**\n",
    "## **Access Array Elements:**\n",
    "\n",
    ">Array indexing is the same as accessing an array element.\n",
    "\n",
    ">You can access an array element by referring to its index number.\n",
    "\n",
    ">The indexes in NumPy arrays **start with 0**, meaning that the **first element **has index **0**, and the **second** has index **1** etc."
   ]
  },
  {
   "cell_type": "code",
   "execution_count": null,
   "metadata": {
    "id": "T4YHum-cve2C",
    "outputId": "1bd01a3e-53fd-4675-c167-c69dfa0e330a"
   },
   "outputs": [],
   "source": [
    "#Access first element\n",
    "\n",
    "arr= np.array([10,20,30,40,50,60,70,80,90,100])\n",
    "\n",
    "print(arr[0])"
   ]
  },
  {
   "cell_type": "code",
   "execution_count": null,
   "metadata": {
    "id": "49jiwYjlUf3b",
    "outputId": "7cb6334e-6925-4a99-8d27-c72e7584d224"
   },
   "outputs": [],
   "source": [
    "#Access second element\n",
    "\n",
    "arr= np.array([10,20,30,40,50,60,70,80,90,100])\n",
    "\n",
    "print(arr[1])"
   ]
  },
  {
   "cell_type": "code",
   "execution_count": null,
   "metadata": {
    "id": "AFhg0D75U0tq",
    "outputId": "1c7eb0ff-960b-45b7-f5a0-65eb203cab71"
   },
   "outputs": [],
   "source": [
    "#Get third and fourth elements from the following array and add them.\n",
    "\n",
    "arr= np.array([10,20,30,40,50,60,70,80,90,100])\n",
    "\n",
    "print(arr[2]+arr[3])"
   ]
  },
  {
   "cell_type": "markdown",
   "metadata": {
    "id": "DdgqS-P4U_E1"
   },
   "source": [
    "## **Access 2-D Arrays**\n",
    "To access elements from 2-D arrays we can use **comma separated integers** representing **the dimension** and the **index of the element.**\n",
    "\n",
    ">**dimension index also starts from 0**"
   ]
  },
  {
   "cell_type": "code",
   "execution_count": null,
   "metadata": {
    "id": "R50R1vedU8bY",
    "outputId": "c204b875-e787-465c-c424-9ba85466360d"
   },
   "outputs": [],
   "source": [
    "arr = np.array([[10,20,30,40,50],[60,70,80,90,100]])\n",
    "\n",
    "print(f\"First element from first Dimension {arr[0,0]}\")"
   ]
  },
  {
   "cell_type": "code",
   "execution_count": null,
   "metadata": {
    "id": "ZgnPuR40VcYj",
    "outputId": "342e17bf-e0f0-43ae-df4f-b3b09cfd2f5f"
   },
   "outputs": [],
   "source": [
    "arr = np.array([[10,20,30,40,50],[60,70,80,90,100]])\n",
    "\n",
    "print(f\"First element from second Dimension {arr[1,0]}\")"
   ]
  },
  {
   "cell_type": "markdown",
   "metadata": {
    "id": "Mggvppt3V5OY"
   },
   "source": [
    "## **Access 3-D Arrays**\n",
    "To access elements from 3-D arrays we can use **comma separated integers **representing the **dimensions** and the **index of the element.**"
   ]
  },
  {
   "cell_type": "code",
   "execution_count": null,
   "metadata": {
    "id": "qIQmxeB_V2Vz",
    "outputId": "a66b4d32-8e9d-4439-e7d3-5b8407e68f7a"
   },
   "outputs": [],
   "source": [
    "arr = np.array([[[10,20,30],[40,50,60]],[[70,80,90],[100,200,300]]])\n",
    "\n",
    "print(arr)"
   ]
  },
  {
   "cell_type": "code",
   "execution_count": null,
   "metadata": {
    "id": "3MuCwCrNWYg3",
    "outputId": "63ec8e22-ce48-4e76-cf9f-dfa16f9fb846"
   },
   "outputs": [],
   "source": [
    "#Access the third element of the second array of the first array:\n",
    "print(arr[0,1,2])"
   ]
  },
  {
   "cell_type": "markdown",
   "metadata": {
    "id": "Rc4UsnbPWwl8"
   },
   "source": [
    "## **Explanation**\n",
    "**The first number represents the first dimension, which contains two arrays:**\n",
    "\n",
    "     [ [ 10,20,30 ] , [ 40,50,60] ]\n",
    "\n",
    "**and:**\n",
    "\n",
    "    [ [ 70,80,90 ] , [ 100,200,300 ] ]\n",
    "\n",
    "**Since we selected 0, we are left with the first array:**\n",
    "\n",
    "    [ [ 10,20,30 ] , [ 40,50,60] ]\n",
    "\n",
    "\n",
    "**The second number represents the second dimension, which also contains two arrays:**\n",
    "\n",
    "\n",
    "    [ 10,20,30 ]\n",
    "\n",
    "**and:**\n",
    "\n",
    "    [ 40,50,60]\n",
    "\n",
    "**Since we selected 1, we are left with the second array:**\n",
    "\n",
    "    [ 40,50,60]\n",
    "\n",
    "**The third number represents the third dimension (element) , which contains three values:**\n",
    "\n",
    "    40\n",
    "\n",
    "    50\n",
    "\n",
    "    60\n",
    "\n",
    "**Since we selected 2, we end up with the third value:**\n",
    "\n",
    "    60"
   ]
  },
  {
   "cell_type": "markdown",
   "metadata": {
    "id": "FJdB13YiYOvU"
   },
   "source": [
    "## **Negative Indexing**\n",
    "\n",
    ">Use negative indexing to access an array from the end."
   ]
  },
  {
   "cell_type": "code",
   "execution_count": null,
   "metadata": {
    "id": "So_7sxvcWe3Z",
    "outputId": "948d055c-f2e6-41cb-beaf-d03db3619369"
   },
   "outputs": [],
   "source": [
    "arr = np.array([[10,20,30,40,50],[60,70,80,90,100]])\n",
    "\n",
    "print(f\"Last element from first Dimension {arr[0,-1]}\")"
   ]
  },
  {
   "cell_type": "markdown",
   "metadata": {
    "id": "QKYD7GLCYgc7"
   },
   "source": [
    "# **NumPy Array Slicing**\n",
    "\n",
    "**Slicing in python means taking elements from one given index to another given index.**\n",
    "\n",
    "We pass slice instead of index like this:\n",
    "\n",
    "    [start:end]\n",
    "\n",
    "We can also define the step, like this:\n",
    "\n",
    "    [start:end:step]\n",
    "\n",
    "If we **don't** pass **start** its considered **0**\n",
    "\n",
    "If we **don't** pass **end** its considered **length** of array **in that dimension**\n",
    "\n",
    "If we **don't** pass **step** its considered **1**"
   ]
  },
  {
   "cell_type": "code",
   "execution_count": null,
   "metadata": {
    "id": "-0iH6P9BYady",
    "outputId": "98f213aa-8a1f-453a-e7ce-7a62b42213b2"
   },
   "outputs": [],
   "source": [
    "#Slice elements from index 1 to index 5 from the following array\n",
    "\n",
    "arr = np.array([1, 2, 3, 4, 5, 6, 7])\n",
    "\n",
    "print(arr[1:5:1])"
   ]
  },
  {
   "cell_type": "markdown",
   "metadata": {
    "id": "gQNdkVgMZUjj"
   },
   "source": [
    "> **Note:** The result **includes** the **start** index, but **excludes** the **end** index."
   ]
  },
  {
   "cell_type": "code",
   "execution_count": null,
   "metadata": {
    "id": "2HCkeaBcZOZK",
    "outputId": "b64071dc-93b2-4931-dc63-017e674df4eb"
   },
   "outputs": [],
   "source": [
    "#Slice elements from index 4 to the end of the array:\n",
    "\n",
    "arr = np.array([1, 2, 3, 4, 5, 6, 7])\n",
    "\n",
    "print(arr[4::1])"
   ]
  },
  {
   "cell_type": "code",
   "execution_count": null,
   "metadata": {
    "id": "vZRgiZq1Zg_i",
    "outputId": "d6c46164-7a48-43d4-8ab0-c2dab06a2c3f"
   },
   "outputs": [],
   "source": [
    "#Slice elements from the beginning to index 4 (not included):\n",
    "\n",
    "arr = np.array([1, 2, 3, 4, 5, 6, 7])\n",
    "\n",
    "print(arr[:4:1])"
   ]
  },
  {
   "cell_type": "markdown",
   "metadata": {
    "id": "J9DeO2VBZsiE"
   },
   "source": [
    "# **Negative Slicing**\n",
    "**Use the minus operator to refer to an index from the end**"
   ]
  },
  {
   "cell_type": "code",
   "execution_count": null,
   "metadata": {
    "id": "ikFgPBRoZpxH",
    "outputId": "c80d1eb5-7fc5-44be-ecb2-e0c4cc7c6236"
   },
   "outputs": [],
   "source": [
    "#Slice from the index 3 from the end to index 1 from the end\n",
    "\n",
    "arr = np.array([1, 2, 3, 4, 5, 6, 7])\n",
    "\n",
    "print(arr[-3:-1])"
   ]
  },
  {
   "cell_type": "markdown",
   "metadata": {
    "id": "8C7h8wvXaAFJ"
   },
   "source": [
    "# **Slicing 2-D Arrays**\n"
   ]
  },
  {
   "cell_type": "code",
   "execution_count": null,
   "metadata": {
    "id": "_GC_K3bMaJpO",
    "outputId": "a661429b-2884-4c5b-e61b-47fb30b33639"
   },
   "outputs": [],
   "source": [
    "#From the second element, slice elements from index 1 to index 4 (not included)\n",
    "\n",
    "arr = np.array([[10,20,30,40,50],[60,70,80,90,100]])\n",
    "\n",
    "print(arr[1,1:4])"
   ]
  },
  {
   "cell_type": "code",
   "execution_count": null,
   "metadata": {
    "id": "IjeDXufWawKq",
    "outputId": "5a05b48c-9d7e-43ef-9dc6-08e82eae8cf3"
   },
   "outputs": [],
   "source": [
    "#From both elements, return index 2:\n",
    "\n",
    "arr = np.array([[10,20,30,40,50],[60,70,80,90,100]])\n",
    "\n",
    "print(arr[0:2,2])"
   ]
  },
  {
   "cell_type": "code",
   "execution_count": null,
   "metadata": {
    "id": "6InyU78ea8FR",
    "outputId": "eb0c2f71-4272-4268-8818-56b1835894fe"
   },
   "outputs": [],
   "source": [
    "#From both elements, slice index 1 to index 4 (not included), this will return a 2-D array\n",
    "\n",
    "arr = np.array([[10,20,30,40,50],[60,70,80,90,100]])\n",
    "\n",
    "print(arr[0:2,1:4])"
   ]
  },
  {
   "cell_type": "markdown",
   "metadata": {
    "id": "Wnfo4iyTc8I3"
   },
   "source": [
    "# **NumPy Array Copy vs View**\n",
    "\n",
    "## **The Difference Between Copy and View**\n",
    "\n",
    "**The main difference** between a copy and a view of an array is that the **copy is a new array**, and the **view is just a view of the original array.**\n",
    "\n",
    ">The **copy owns the data** and **any changes made to the copy** will **not affect original array**, and **any changes made to the original** array will **not affect the copy.**\n",
    "\n",
    ">The **view does not own the data** and **any changes made to the view** will **affect the original array**, and **any changes made to the original** array will **affect the view**."
   ]
  },
  {
   "cell_type": "markdown",
   "metadata": {
    "id": "-62xdfAWdinj"
   },
   "source": [
    "## **Copy**\n",
    "Make a copy, change the original array, and display both arrays"
   ]
  },
  {
   "cell_type": "code",
   "execution_count": null,
   "metadata": {
    "id": "7o0Ly49abNI6",
    "outputId": "52498976-07d4-465f-9298-daf77d21da7a"
   },
   "outputs": [],
   "source": [
    "arr = np.array([1, 2, 3, 4, 5])\n",
    "print(f\"Arr Original Before{arr}\")\n",
    "\n",
    "x = arr.copy()\n",
    "print(f\"X Copy Before {x}\")\n",
    "\n",
    "arr[0] = 42\n",
    "print(f\"Arr Original After{arr}\")\n",
    "\n",
    "print(f\"X Copy After {x}\")   #The copy SHOULD NOT be affected by the changes made to the original array."
   ]
  },
  {
   "cell_type": "markdown",
   "metadata": {
    "id": "V7LmvuZAeP2k"
   },
   "source": [
    "## **View**\n",
    "\n",
    "Make a view, change the original array, and display both arrays"
   ]
  },
  {
   "cell_type": "code",
   "execution_count": null,
   "metadata": {
    "id": "gsEPw8V5eAtO",
    "outputId": "f76c57b6-468d-46c8-ee71-c28ae53e90fd"
   },
   "outputs": [],
   "source": [
    "arr = np.array([1, 2, 3, 4, 5])\n",
    "print(f\"Arr Original Before{arr}\")\n",
    "\n",
    "x = arr.view()\n",
    "print(f\"X View Before {x}\")\n",
    "\n",
    "arr[0] = 42\n",
    "print(f\"Arr Original After{arr}\")\n",
    "\n",
    "print(f\"X View After {x}\")    #The view SHOULD be affected by the changes made to the original array."
   ]
  },
  {
   "cell_type": "code",
   "execution_count": null,
   "metadata": {
    "id": "0Sf0gC5zeaJf",
    "outputId": "f146f222-c6d7-4b43-cb60-1eda8b4bcb0e"
   },
   "outputs": [],
   "source": [
    "arr = np.array([1, 2, 3, 4, 5])\n",
    "print(f\"Arr Original Before{arr}\")\n",
    "\n",
    "x = arr.view()\n",
    "print(f\"X View Before {x}\")\n",
    "\n",
    "x[0] = 42\n",
    "print(f\"X View After{arr}\")\n",
    "\n",
    "print(f\"Arr Original After {x}\")    #The original array SHOULD be affected by the changes made to the view."
   ]
  },
  {
   "cell_type": "markdown",
   "metadata": {
    "id": "KsMT2QpJfLtU"
   },
   "source": [
    "# **Check if Array Owns its Data**\n",
    "\n",
    "* **Copies owns the data**\n",
    "* **Views does not own the data**\n",
    "\n",
    "Every NumPy array has the attribute **base** that returns **None** if the array **owns the data.**\n",
    "\n",
    "Otherwise, the **base**  attribute **refers to the original object**."
   ]
  },
  {
   "cell_type": "code",
   "execution_count": null,
   "metadata": {
    "id": "NKTuSnx3e3IV",
    "outputId": "1df5ddb4-a28f-45bc-c859-a9f992f508e5"
   },
   "outputs": [],
   "source": [
    "#Print the value of the base attribute to check if an array owns it's data or not:\n",
    "\n",
    "\n",
    "arr = np.array([1, 2, 3, 4, 5])\n",
    "\n",
    "x = arr.copy()\n",
    "y = arr.view()\n",
    "\n",
    "print(f\"base attribute for Copy is :{x.base}\")\n",
    "print(f\"base attribute for View is :{y.base}\")"
   ]
  },
  {
   "cell_type": "markdown",
   "metadata": {
    "id": "Nuqv_4H2h0dv"
   },
   "source": [
    "# **NumPy Array Shape**\n",
    "The shape of an array is the number of elements in each dimension.\n",
    "\n",
    "NumPy arrays have an **attribute** called **shape** that **returns** a **tuple** with **each index** having the **number** of **corresponding** **elements**."
   ]
  },
  {
   "cell_type": "code",
   "execution_count": null,
   "metadata": {
    "id": "y12iXm4iftk7",
    "outputId": "88ffd0c0-5a10-4216-a66b-6f26a38e17b6"
   },
   "outputs": [],
   "source": [
    "#Print the shape of a 2-D array\n",
    "\n",
    "arr = np.array([[1, 2, 3, 4], [5, 6, 7, 8]])\n",
    "\n",
    "print(arr.shape)  #OUTPUT 2 >>> Two elements in first dimension , 4 >>> Four elements in second dimension"
   ]
  },
  {
   "cell_type": "code",
   "execution_count": null,
   "metadata": {
    "id": "xX6lpyHZiG6W",
    "outputId": "d81660fb-6f85-4b5b-825a-32d2e24ff624"
   },
   "outputs": [],
   "source": [
    "# Create an array with 5 dimensions using ndmin using a vector with values 1,2,3,4 and verify that last dimension has value 4:\n",
    "\n",
    "arr = np.array([1,2,3,4] , ndmin=5)\n",
    "\n",
    "\n",
    "print('shape of array :', arr.shape)  #arr has 5 dimensions, in each dimension there is only one element except for the last dimension has 4 elements ([1, 2, 3, 4])."
   ]
  },
  {
   "cell_type": "markdown",
   "metadata": {
    "id": "72tqFxoclXJ4"
   },
   "source": [
    "# **NumPy Array Reshaping**\n",
    "\n",
    "> By reshaping we can **add** or **remove** **dimensions** or **change** **number** of elements in **each** **dimension**.\n",
    "\n",
    "## **Reshape From 1-D to 2-D**\n",
    "the outermost dimension will have 2 arrays, each with 6 elements:"
   ]
  },
  {
   "cell_type": "code",
   "execution_count": null,
   "metadata": {
    "id": "40qbGjNnm_Yd",
    "outputId": "ba4948a3-ec10-49d3-fcf2-164ef2be554c"
   },
   "outputs": [],
   "source": [
    "#Convert the following 1-D array with 12 elements into a 2-D array\n",
    "arr = np.array([1, 2, 3, 4, 5, 6, 7, 8, 9, 10, 11, 12])\n",
    "\n",
    "newarr = arr.reshape(2, 6)\n",
    "\n",
    "print(newarr)"
   ]
  },
  {
   "cell_type": "markdown",
   "metadata": {
    "id": "RfksPtW5nqdT"
   },
   "source": [
    "## **Reshape From 1-D to 3-D**\n",
    "The outermost dimension will have 2 arrays that contains 2 arrays, each with 3 elements:"
   ]
  },
  {
   "cell_type": "code",
   "execution_count": null,
   "metadata": {
    "id": "PmX5Zt6lnOgT",
    "outputId": "2d7ca681-c5b4-4e12-af9e-20c53a45af41"
   },
   "outputs": [],
   "source": [
    "#Convert the following 1-D array with 12 elements into a 3-D array\n",
    "\n",
    "arr = np.array([1, 2, 3, 4, 5, 6, 7, 8, 9, 10, 11, 12])\n",
    "\n",
    "newarr = arr.reshape(2,2,3)\n",
    "\n",
    "print(newarr)"
   ]
  },
  {
   "cell_type": "markdown",
   "metadata": {
    "id": "z6jdeiEXoK9c"
   },
   "source": [
    "# **Can We Reshape Into any Shape?**\n",
    ">Yes, as long as the elements required for reshaping are equal in both shapes.\n",
    "\n",
    "We can reshape an **8 elements 1D array** into **4 elements in 2 rows 2D array **but we **cannot reshape it into a 3 elements 3 rows 2D array** as that **would require 3x3 = 9 elements.**"
   ]
  },
  {
   "cell_type": "markdown",
   "metadata": {
    "id": "4CQFo-ynqNgf"
   },
   "source": [
    "## **Check if the returned array is a copy or a view**"
   ]
  },
  {
   "cell_type": "code",
   "execution_count": null,
   "metadata": {
    "id": "OTOzyH_3oBO6",
    "outputId": "d9ead99c-9020-442b-acac-744fd7a6c9e4"
   },
   "outputs": [],
   "source": [
    "arr = np.array([1, 2, 3, 4, 5, 6, 7, 8])\n",
    "\n",
    "print(arr.reshape(2, 4).base)   #The example returns the original array, so it is a view"
   ]
  },
  {
   "cell_type": "markdown",
   "metadata": {
    "id": "Y9OG5A68qWYj"
   },
   "source": [
    "# **Unknown Dimension**\n",
    "**You are allowed to have one \"unknown\" dimension.**\n",
    "\n",
    "Meaning that **you do not have to specify an exact number for one of the dimensions** in the reshape method.\n",
    "\n",
    "**Pass -1 as the value**, and NumPy will **calculate** this number for you."
   ]
  },
  {
   "cell_type": "code",
   "execution_count": null,
   "metadata": {
    "id": "OqZ_AUreqKOh",
    "outputId": "4179c02d-dc7a-484b-baab-47960716bf89"
   },
   "outputs": [],
   "source": [
    "#Convert 1D array with 8 elements to 3D array\n",
    "\n",
    "arr = np.array([1, 2, 3, 4, 5, 6, 7, 8])\n",
    "\n",
    "newarr=arr.reshape(2,2,-1)\n",
    "\n",
    "print(newarr)"
   ]
  },
  {
   "cell_type": "code",
   "execution_count": null,
   "metadata": {
    "id": "3LrEu3qBq2fv",
    "outputId": "019f9eb1-a6e3-4d13-8ece-fda7ebc23910"
   },
   "outputs": [],
   "source": [
    "\n",
    "arr = np.array([1, 2, 3, 4, 5, 6, 7, 8])\n",
    "\n",
    "newarr=arr.reshape(-1,2,2)\n",
    "\n",
    "print(newarr)"
   ]
  },
  {
   "cell_type": "code",
   "execution_count": null,
   "metadata": {
    "id": "K7gbjhPeq8pi",
    "outputId": "29ff78d9-a796-403c-f90d-0ca13e008ad5"
   },
   "outputs": [],
   "source": [
    "\n",
    "arr = np.array([1, 2, 3, 4, 5, 6, 7, 8])\n",
    "\n",
    "newarr=arr.reshape(2,-1,2)\n",
    "\n",
    "print(newarr)"
   ]
  },
  {
   "cell_type": "markdown",
   "metadata": {
    "id": "-DqkZgr7rEzv"
   },
   "source": [
    "# **Flattening the arrays**\n",
    "\n",
    "## **Flattening array means converting a multidimensional array into a 1D array.**\n",
    "\n",
    "We can use **reshape(-1)** to do this."
   ]
  },
  {
   "cell_type": "code",
   "execution_count": null,
   "metadata": {
    "id": "5KsMDW-CrBuw",
    "outputId": "0fc08f44-d57d-4a4a-c153-c4542a1d6e72"
   },
   "outputs": [],
   "source": [
    "arr = np.array([[[10,20,30],[40,50,60]],[[70,80,90],[100,200,300]]])\n",
    "print(arr)\n",
    "\n",
    "\n",
    "newarr = arr.reshape(-1)\n",
    "print(newarr)"
   ]
  }
 ],
 "metadata": {
  "colab": {
   "provenance": []
  },
  "kaggle": {
   "accelerator": "none",
   "dataSources": [],
   "dockerImageVersionId": 30615,
   "isGpuEnabled": false,
   "isInternetEnabled": false,
   "language": "python",
   "sourceType": "notebook"
  },
  "kernelspec": {
   "display_name": "pytorch",
   "language": "python",
   "name": "python3"
  },
  "language_info": {
   "codemirror_mode": {
    "name": "ipython",
    "version": 3
   },
   "file_extension": ".py",
   "mimetype": "text/x-python",
   "name": "python",
   "nbconvert_exporter": "python",
   "pygments_lexer": "ipython3",
   "version": "3.9.21"
  }
 },
 "nbformat": 4,
 "nbformat_minor": 4
}
