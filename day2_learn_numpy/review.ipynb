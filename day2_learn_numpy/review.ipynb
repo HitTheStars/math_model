{
 "cells": [
  {
   "cell_type": "markdown",
   "id": "cb18e6be",
   "metadata": {},
   "source": [
    "```python\n",
    "sepalL=data[:,1]\n",
    "```\n",
    "这一行是对numpy数组的切片操作，它表示取所有行的第2列（索引为1）的元素。\n",
    "\n",
    "[a,b]这个切片操作**前面是行数据后面是列数据**。\n",
    "\n",
    "前提是numpy数组的维度是2维的。\n",
    "在dataread的时候就要提前把str类型的剔除出去，只保留float类型的"
   ]
  },
  {
   "cell_type": "code",
   "execution_count": 11,
   "id": "b2934db3",
   "metadata": {},
   "outputs": [
    {
     "name": "stdout",
     "output_type": "stream",
     "text": [
      "Skipping, found downloaded files in \".\\iris\" (use force=True to force download)\n",
      "the second column is: [5.1 4.9 4.7 4.6 5.  5.4 4.6 5.  4.4 4.9 5.4 4.8 4.8 4.3 5.8 5.7 5.4 5.1\n",
      " 5.7 5.1 5.4 5.1 4.6 5.1 4.8 5.  5.  5.2 5.2 4.7 4.8 5.4 5.2 5.5 4.9 5.\n",
      " 5.5 4.9 4.4 5.1 5.  4.5 4.4 5.  5.1 4.8 5.1 4.6 5.3 5.  7.  6.4 6.9 5.5\n",
      " 6.5 5.7 6.3 4.9 6.6 5.2 5.  5.9 6.  6.1 5.6 6.7 5.6 5.8 6.2 5.6 5.9 6.1\n",
      " 6.3 6.1 6.4 6.6 6.8 6.7 6.  5.7 5.5 5.5 5.8 6.  5.4 6.  6.7 6.3 5.6 5.5\n",
      " 5.5 6.1 5.8 5.  5.6 5.7 5.7 6.2 5.1 5.7 6.3 5.8 7.1 6.3 6.5 7.6 4.9 7.3\n",
      " 6.7 7.2 6.5 6.4 6.8 5.7 5.8 6.4 6.5 7.7 7.7 6.  6.9 5.6 7.7 6.3 6.7 7.2\n",
      " 6.2 6.1 6.4 7.2 7.4 7.9 6.4 6.3 6.1 7.7 6.3 6.4 6.  6.9 6.7 6.9 5.8 6.8\n",
      " 6.7 6.7 6.3 6.5 6.2 5.9]\n",
      "5.843333333333334 is the mean of the second column\n"
     ]
    }
   ],
   "source": [
    "import numpy as np\n",
    "import opendatasets as od\n",
    "import csv\n",
    "\n",
    "# Download a dataset from Kaggle\n",
    "iris=od.download(\"https://www.kaggle.com/datasets/uciml/iris\")\n",
    "# Read the dataset using numpy\n",
    "data = np.genfromtxt('iris/iris.csv', delimiter=',', skip_header=1, usecols=range(4), dtype=float)\n",
    "# display the second column of the dataset\n",
    "sepalL=data[:,1]\n",
    "print(\"the second column is:\", sepalL)\n",
    "\n",
    "print(np.mean(sepalL),\"is the mean of the second column\")\n"
   ]
  },
  {
   "cell_type": "code",
   "execution_count": 18,
   "id": "a95316c5",
   "metadata": {},
   "outputs": [
    {
     "name": "stdout",
     "output_type": "stream",
     "text": [
      "the random matrix is:\n",
      " [[0.88994672 0.00492068 0.66446505 0.3439703  0.08430442 0.81916961]\n",
      " [0.67339095 0.59808387 0.92623922 0.47630148 0.43636289 0.36703984]\n",
      " [0.59634712 0.62565759 0.92304911 0.78198719 0.80783083 0.66588026]\n",
      " [0.28154295 0.40005176 0.19051927 0.41146041 0.36189411 0.94435876]\n",
      " [0.93903617 0.62660093 0.33422119 0.67364862 0.9543963  0.81744097]\n",
      " [0.38630585 0.77618994 0.12395577 0.0808736  0.45569027 0.02192226]]\n",
      "0.01088212892322634 is the determinant of the random matrix\n",
      "[[ -0.86934502   3.60419062  -3.57966981  -0.07549861   2.30178927\n",
      "   -1.70548833]\n",
      " [ -2.96652593   6.10132866  -4.75978516   2.20004786   1.622553\n",
      "   -2.0012363 ]\n",
      " [  3.80997145  -6.83739546   6.46252801  -1.84959036  -3.98837485\n",
      "    4.2081322 ]\n",
      " [-10.64074356  20.62068493 -15.53739615   4.53906442   9.16678108\n",
      "  -13.03704588]\n",
      " [  6.50292983 -14.9820393   11.95069582  -3.98939436  -5.1321199\n",
      "    8.06919639]\n",
      " [  2.89140281  -5.52291142   3.96977524   0.07369944  -2.5962368\n",
      "    3.09529569]] is the inverse of the random matrix\n",
      "the standard matrix is:\n",
      " [[1. 1. 1. 1. 1. 1.]\n",
      " [1. 1. 1. 1. 1. 1.]\n",
      " [1. 1. 1. 1. 1. 1.]\n",
      " [1. 1. 1. 1. 1. 1.]\n",
      " [1. 1. 1. 1. 1. 1.]\n",
      " [1. 1. 1. 1. 1. 1.]]\n",
      "0.0 is the determinant of the standard matrix\n",
      "[[1. 1. 1. 1. 1. 1.]\n",
      " [1. 1. 1. 1. 1. 1.]\n",
      " [1. 1. 1. 1. 1. 1.]\n",
      " [1. 1. 1. 1. 1. 1.]\n",
      " [1. 1. 1. 1. 1. 1.]\n",
      " [1. 1. 1. 1. 1. 1.]] is the transpose of the standard matrix\n"
     ]
    }
   ],
   "source": [
    "random_matirx= np.random.rand(6,6)\n",
    "print(\"the random matrix is:\\n\", random_matirx)\n",
    "\n",
    "print(np.linalg.det(random_matirx),\"is the determinant of the random matrix\")\n",
    "print(np.linalg.inv(random_matirx),\"is the inverse of the random matrix\")\n",
    "\n",
    "standard_matrix = np.ones((6, 6))\n",
    "print(\"the standard matrix is:\\n\", standard_matrix)\n",
    "print(np.linalg.det(standard_matrix),\"is the determinant of the standard matrix\")\n",
    "print(np.transpose(standard_matrix),\"is the transpose of the standard matrix\")"
   ]
  },
  {
   "cell_type": "markdown",
   "id": "a2a989f0",
   "metadata": {},
   "source": []
  }
 ],
 "metadata": {
  "kernelspec": {
   "display_name": "pytorch_env",
   "language": "python",
   "name": "pytorch_env"
  },
  "language_info": {
   "codemirror_mode": {
    "name": "ipython",
    "version": 3
   },
   "file_extension": ".py",
   "mimetype": "text/x-python",
   "name": "python",
   "nbconvert_exporter": "python",
   "pygments_lexer": "ipython3",
   "version": "3.9.21"
  }
 },
 "nbformat": 4,
 "nbformat_minor": 5
}
